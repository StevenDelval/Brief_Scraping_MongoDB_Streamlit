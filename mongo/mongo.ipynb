{
 "cells": [
  {
   "cell_type": "code",
   "execution_count": 46,
   "metadata": {},
   "outputs": [],
   "source": [
    "import pandas as pd\n",
    "from pymongo import MongoClient\n",
    "import re\n",
    "import csv\n"
   ]
  },
  {
   "attachments": {},
   "cell_type": "markdown",
   "metadata": {},
   "source": [
    "### Connection avec mongodb\n"
   ]
  },
  {
   "cell_type": "code",
   "execution_count": 47,
   "metadata": {},
   "outputs": [],
   "source": [
    "client = MongoClient(\"localhost:27017\")\n",
    "database = client.scrapy\n",
    "movies = database.movies\n",
    "serie = database.serie\n",
    "movies.drop()\n",
    "serie.drop()"
   ]
  },
  {
   "attachments": {},
   "cell_type": "markdown",
   "metadata": {},
   "source": [
    "### Nettoyage des données"
   ]
  },
  {
   "cell_type": "code",
   "execution_count": 48,
   "metadata": {},
   "outputs": [],
   "source": [
    "df_movie = pd.read_csv(\"csv/items.csv\")\n",
    "# df_serie = pd.read_csv(\"csv/serie.csv\")"
   ]
  },
  {
   "cell_type": "code",
   "execution_count": 49,
   "metadata": {},
   "outputs": [],
   "source": [
    "df_movie[\"titre_original\"].replace(to_replace=\"Original title: \", value='', regex=True,inplace=True)\n"
   ]
  },
  {
   "cell_type": "code",
   "execution_count": 50,
   "metadata": {},
   "outputs": [],
   "source": [
    "df_movie[\"duree\"].replace(to_replace=\",\", value='', regex=True,inplace=True)\n",
    "# df_serie[\"duree\"].replace(to_replace=\",\", value='', regex=True,inplace=True)\n",
    "def convertion_duree(s):\n",
    "    \n",
    "    split_cell = re.split(\"\\s\", s)\n",
    "    duree = 0\n",
    "    for elt in split_cell:\n",
    "        if \"h\" in elt:\n",
    "            duree = int(re.split(\"h\", elt)[0]) *60 +duree\n",
    "        elif \"m\" in elt:\n",
    "            duree =int(re.split(\"m\", elt)[0]) +duree\n",
    "    return duree\n",
    "    \n",
    "\n",
    "\n",
    "\n",
    "\n",
    "# df_movie['duree'] = df_movie['duree'].apply(lambda x :  convertion_duree(str(x)))\n",
    "# df_serie['duree'] = df_serie['duree'].apply(lambda x :  convertion_duree(str(x)))\n",
    "\n"
   ]
  },
  {
   "cell_type": "code",
   "execution_count": 51,
   "metadata": {},
   "outputs": [],
   "source": [
    "df_movie.to_csv(\"csv/items.csv\",index=False)\n",
    "# df_serie.to_csv(\"csv/serie.csv\",index=False)"
   ]
  },
  {
   "attachments": {},
   "cell_type": "markdown",
   "metadata": {},
   "source": [
    "### Import des données dans mongodb"
   ]
  },
  {
   "cell_type": "code",
   "execution_count": 52,
   "metadata": {},
   "outputs": [],
   "source": [
    "header = [\"acteurs\",\"date\",\"descriptions\",\"duree\",\"genre\",\"pays\",\"public\",\"score\",\"titre\",\"titre_original\",\"url\"]\n",
    "csvfile = open('csv/items.csv', 'r')\n",
    "reader = csv.DictReader( csvfile )\n",
    "\n",
    "for each in reader:\n",
    "    row={}\n",
    "    for field in header:\n",
    "\n",
    "        if field in  [\"acteurs\",\"genre\",\"pays\"]:\n",
    "            row[field]=each[field].split(\",\")\n",
    "        elif field in [\"date\",\"duree\"]:\n",
    "            row[field]=int(each[field])\n",
    "        elif field ==\"score\":\n",
    "            row[field]=float(each[field])\n",
    "        else :\n",
    "            row[field]=each[field]\n",
    "        \n",
    "    movies.insert_one(row)"
   ]
  },
  {
   "cell_type": "code",
   "execution_count": 53,
   "metadata": {},
   "outputs": [],
   "source": [
    "header = [\"acteurs\",\"date\",\"descriptions\",\"duree\",\"genre\",\"pays\",\"public\",\"score\",\"titre\",\"titre_original\"]\n",
    "csvfile = open('csv/serie.csv', 'r')\n",
    "reader = csv.DictReader( csvfile )\n",
    "\n",
    "for each in reader:\n",
    "    row={}\n",
    "    for field in header:\n",
    "\n",
    "        if field in  [\"acteurs\",\"genre\",\"pays\"]:\n",
    "            row[field]=each[field].split(\",\")\n",
    "        elif field in [\"duree\"]:\n",
    "            row[field]=int(each[field])\n",
    "        elif field ==\"score\":\n",
    "            row[field]=float(each[field])\n",
    "        else :\n",
    "            row[field]=each[field]  \n",
    "        \n",
    "    serie.insert_one(row)"
   ]
  },
  {
   "attachments": {},
   "cell_type": "markdown",
   "metadata": {},
   "source": [
    "## question n°1"
   ]
  },
  {
   "cell_type": "code",
   "execution_count": 54,
   "metadata": {},
   "outputs": [
    {
     "data": {
      "text/plain": [
       "{'_id': ObjectId('639afa454158f6a45ece754b'),\n",
       " 'acteurs': ['Clark Gable', 'Vivien Leigh', 'Thomas Mitchell'],\n",
       " 'date': 1939,\n",
       " 'descriptions': 'The manipulative daughter of a Georgia plantation owner conducts a turbulent romance with a roguish profiteer during the American Civil War and Reconstruction periods.',\n",
       " 'duree': 238,\n",
       " 'genre': ['Drama', 'Romance', 'War'],\n",
       " 'pays': ['United States'],\n",
       " 'public': 'Passed',\n",
       " 'score': 8.2,\n",
       " 'titre': 'Gone with the Wind',\n",
       " 'titre_original': '',\n",
       " 'url': 'https://m.media-amazon.com/images/M/MV5BYjUyZWZkM2UtMzYxYy00ZmQ3LWFmZTQtOGE2YjBkNjA3YWZlXkEyXkFqcGdeQXVyNzkwMjQ5NzM@._V1_QL75_UX190_CR0,5,190,281_.jpg'}"
      ]
     },
     "execution_count": 54,
     "metadata": {},
     "output_type": "execute_result"
    }
   ],
   "source": [
    "movies.find().sort(\"duree\",-1).limit(1)[0]"
   ]
  },
  {
   "attachments": {},
   "cell_type": "markdown",
   "metadata": {},
   "source": [
    "## Question n°2"
   ]
  },
  {
   "cell_type": "code",
   "execution_count": 55,
   "metadata": {},
   "outputs": [
    {
     "name": "stdout",
     "output_type": "stream",
     "text": [
      "{'_id': ObjectId('639afa454158f6a45ece74e0'), 'acteurs': ['Tim Robbins', 'Morgan Freeman', 'Bob Gunton'], 'date': 1994, 'descriptions': 'Two imprisoned men bond over a number of years, finding solace and eventual redemption through acts of common decency.', 'duree': 142, 'genre': ['Drama'], 'pays': ['United States'], 'public': 'R', 'score': 9.3, 'titre': 'The Shawshank Redemption', 'titre_original': '', 'url': 'https://m.media-amazon.com/images/M/MV5BMDFkYTc0MGEtZmNhMC00ZDIzLWFmNTEtODM1ZmRlYWMwMWFmXkEyXkFqcGdeQXVyMTMxODk2OTU@._V1_QL75_UX190_CR0,0,190,281_.jpg'}\n",
      "{'_id': ObjectId('639afa454158f6a45ece75d8'), 'acteurs': ['Marlon Brando', 'Al Pacino', 'James Caan'], 'date': 1972, 'descriptions': 'The aging patriarch of an organized crime dynasty in postwar New York City transfers control of his clandestine empire to his reluctant youngest son.', 'duree': 175, 'genre': ['Crime', 'Drama'], 'pays': ['United States'], 'public': 'R', 'score': 9.2, 'titre': 'The Godfather', 'titre_original': '', 'url': 'https://m.media-amazon.com/images/M/MV5BM2MyNjYxNmUtYTAwNi00MTYxLWJmNWYtYzZlODY3ZTk3OTFlXkEyXkFqcGdeQXVyNzkwMjQ5NzM@._V1_QL75_UY281_CR4,0,190,281_.jpg'}\n",
      "{'_id': ObjectId('639afa454158f6a45ece75d7'), 'acteurs': ['Al Pacino', 'Robert De Niro', 'Robert Duvall'], 'date': 1974, 'descriptions': 'The early life and career of Vito Corleone in 1920s New York City is portrayed, while his son, Michael, expands and tightens his grip on the family crime syndicate.', 'duree': 202, 'genre': ['Crime', 'Drama'], 'pays': ['United States'], 'public': 'R', 'score': 9.0, 'titre': 'The Godfather Part II', 'titre_original': '', 'url': 'https://m.media-amazon.com/images/M/MV5BMWMwMGQzZTItY2JlNC00OWZiLWIyMDctNDk2ZDQ2YjRjMWQ0XkEyXkFqcGdeQXVyNzkwMjQ5NzM@._V1_QL75_UY281_CR4,0,190,281_.jpg'}\n",
      "{'_id': ObjectId('639afa454158f6a45ece75d6'), 'acteurs': ['Henry Fonda', 'Lee J. Cobb', 'Martin Balsam'], 'date': 1957, 'descriptions': 'The jury in a New York City murder trial is frustrated by a single member whose skeptical caution forces them to more carefully consider the evidence before jumping to a hasty verdict.', 'duree': 96, 'genre': ['Crime', 'Drama'], 'pays': ['United States'], 'public': 'Approved', 'score': 9.0, 'titre': '12 Angry Men', 'titre_original': '', 'url': 'https://m.media-amazon.com/images/M/MV5BMWU4N2FjNzYtNTVkNC00NzQ0LTg0MjAtYTJlMjFhNGUxZDFmXkEyXkFqcGdeQXVyNjc1NTYyMjg@._V1_QL75_UX190_CR0,6,190,281_.jpg'}\n",
      "{'_id': ObjectId('639afa454158f6a45ece75d5'), 'acteurs': ['Elijah Wood', 'Viggo Mortensen', 'Ian McKellen'], 'date': 2003, 'descriptions': \"Gandalf and Aragorn lead the World of Men against Sauron's army to draw his gaze from Frodo and Sam as they approach Mount Doom with the One Ring.\", 'duree': 201, 'genre': ['Action', 'Adventure', 'Drama'], 'pays': ['New Zealand', 'United States'], 'public': 'PG-13', 'score': 9.0, 'titre': 'The Lord of the Rings: The Return of the King', 'titre_original': '', 'url': 'https://m.media-amazon.com/images/M/MV5BNzA5ZDNlZWMtM2NhNS00NDJjLTk4NDItYTRmY2EwMWZlMTY3XkEyXkFqcGdeQXVyNzkwMjQ5NzM@._V1_QL75_UX190_CR0,0,190,281_.jpg'}\n"
     ]
    }
   ],
   "source": [
    "five_movies=movies.find().sort(\"score\",-1).limit(5)\n",
    "for movie in five_movies:\n",
    "    print(movie)"
   ]
  },
  {
   "attachments": {},
   "cell_type": "markdown",
   "metadata": {},
   "source": [
    "## Question n°3\n"
   ]
  },
  {
   "cell_type": "code",
   "execution_count": 56,
   "metadata": {},
   "outputs": [
    {
     "name": "stdout",
     "output_type": "stream",
     "text": [
      "{'_id': ObjectId('639afa454158f6a45ece74e0'), 'acteurs': ['Tim Robbins', 'Morgan Freeman', 'Bob Gunton'], 'date': 1994, 'descriptions': 'Two imprisoned men bond over a number of years, finding solace and eventual redemption through acts of common decency.', 'duree': 142, 'genre': ['Drama'], 'pays': ['United States'], 'public': 'R', 'score': 9.3, 'titre': 'The Shawshank Redemption', 'titre_original': '', 'url': 'https://m.media-amazon.com/images/M/MV5BMDFkYTc0MGEtZmNhMC00ZDIzLWFmNTEtODM1ZmRlYWMwMWFmXkEyXkFqcGdeQXVyMTMxODk2OTU@._V1_QL75_UX190_CR0,0,190,281_.jpg'}\n",
      "{'_id': ObjectId('639afa454158f6a45ece74ea'), 'acteurs': ['Morgan Freeman', 'Brad Pitt', 'Kevin Spacey'], 'date': 1995, 'descriptions': 'Two detectives, a rookie and a veteran, hunt a serial killer who uses the seven deadly sins as his motives.', 'duree': 127, 'genre': ['Crime', 'Drama', 'Mystery'], 'pays': ['United States'], 'public': 'R', 'score': 8.6, 'titre': 'Se7en', 'titre_original': '', 'url': 'https://m.media-amazon.com/images/M/MV5BOTUwODM5MTctZjczMi00OTk4LTg3NWUtNmVhMTAzNTNjYjcyXkEyXkFqcGdeQXVyNjU0OTQ0OTY@._V1_QL75_UX190_CR0,8,190,281_.jpg'}\n",
      "{'_id': ObjectId('639afa454158f6a45ece753b'), 'acteurs': ['Hilary Swank', 'Clint Eastwood', 'Morgan Freeman'], 'date': 2004, 'descriptions': 'A determined woman works with a hardened boxing trainer to become a professional.', 'duree': 132, 'genre': ['Drama', 'Sport'], 'pays': ['United States'], 'public': 'PG-13', 'score': 8.1, 'titre': 'Million Dollar Baby', 'titre_original': '', 'url': 'https://m.media-amazon.com/images/M/MV5BMTkxNzA1NDQxOV5BMl5BanBnXkFtZTcwNTkyMTIzMw@@._V1_QL75_UY281_CR1,0,190,281_.jpg'}\n",
      "{'_id': ObjectId('639afa454158f6a45ece755f'), 'acteurs': ['Clint Eastwood', 'Gene Hackman', 'Morgan Freeman'], 'date': 1992, 'descriptions': 'Retired Old West gunslinger William Munny reluctantly takes on one last job, with the help of his old partner Ned Logan and a young man, The \"Schofield Kid.\"', 'duree': 130, 'genre': ['Drama', 'Western'], 'pays': ['United States'], 'public': 'R', 'score': 8.2, 'titre': 'Unforgiven', 'titre_original': '', 'url': 'https://m.media-amazon.com/images/M/MV5BODM3YWY4NmQtN2Y3Ni00OTg0LWFhZGQtZWE3ZWY4MTJlOWU4XkEyXkFqcGdeQXVyNjU0OTQ0OTY@._V1_QL75_UX190_CR0,2,190,281_.jpg'}\n"
     ]
    }
   ],
   "source": [
    "Freeman_movies = movies.find({\"acteurs\":{\"$in\":[\"Morgan Freeman\"]}})\n",
    "for movie in Freeman_movies:\n",
    "    print(movie)"
   ]
  },
  {
   "cell_type": "code",
   "execution_count": 57,
   "metadata": {},
   "outputs": [
    {
     "name": "stdout",
     "output_type": "stream",
     "text": [
      "{'_id': ObjectId('639afa454158f6a45ece759a'), 'acteurs': ['Tom Cruise', 'Jennifer Connelly', 'Miles Teller'], 'date': 2022, 'descriptions': \"After thirty years, Maverick is still pushing the envelope as a top naval aviator, but must confront ghosts of his past when he leads TOP GUN's elite graduates on a mission that demands the ultimate sacrifice from those chosen to fly it.\", 'duree': 130, 'genre': ['Action', 'Drama'], 'pays': ['United States'], 'public': 'PG-13', 'score': 8.4, 'titre': 'Top Gun: Maverick', 'titre_original': '', 'url': 'https://m.media-amazon.com/images/M/MV5BZWYzOGEwNTgtNWU3NS00ZTQ0LWJkODUtMmVhMjIwMjA1ZmQwXkEyXkFqcGdeQXVyMjkwOTAyMDU@._V1_QL75_UX190_CR0,0,190,281_.jpg'}\n"
     ]
    }
   ],
   "source": [
    "Cruise_movies = movies.find({\"acteurs\":{\"$in\":[\"Tom Cruise\"]}})\n",
    "for movie in Cruise_movies:\n",
    "    print(movie)"
   ]
  },
  {
   "attachments": {},
   "cell_type": "markdown",
   "metadata": {},
   "source": [
    "## Question n°4"
   ]
  },
  {
   "cell_type": "code",
   "execution_count": 58,
   "metadata": {},
   "outputs": [
    {
     "name": "stdout",
     "output_type": "stream",
     "text": [
      "{'_id': ObjectId('639afa454158f6a45ece75c9'), 'acteurs': ['Anthony Perkins', 'Janet Leigh', 'Vera Miles'], 'date': 1960, 'descriptions': \"A Phoenix secretary embezzles $40,000 from her employer's client, goes on the run and checks into a remote motel run by a young man under the domination of his mother.\", 'duree': 109, 'genre': ['Horror', 'Mystery', 'Thriller'], 'pays': ['United States'], 'public': 'R', 'score': 8.5, 'titre': 'Psycho', 'titre_original': '', 'url': 'https://m.media-amazon.com/images/M/MV5BNTQwNDM1YzItNDAxZC00NWY2LTk0M2UtNDIwNWI5OGUyNWUxXkEyXkFqcGdeQXVyNzkwMjQ5NzM@._V1_QL75_UX190_CR0,0,190,281_.jpg'}\n",
      "{'_id': ObjectId('639afa454158f6a45ece75b7'), 'acteurs': ['Sigourney Weaver', 'Tom Skerritt', 'John Hurt'], 'date': 1979, 'descriptions': 'The crew of a commercial spacecraft encounter a deadly lifeform after investigating an unknown transmission.', 'duree': 117, 'genre': ['Horror', 'Sci-Fi'], 'pays': ['United Kingdom', 'United States'], 'public': 'R', 'score': 8.5, 'titre': 'Alien', 'titre_original': '', 'url': 'https://m.media-amazon.com/images/M/MV5BOGQzZTBjMjQtOTVmMS00NGE5LWEyYmMtOGQ1ZGZjNmRkYjFhXkEyXkFqcGdeQXVyMjUzOTY1NTc@._V1_QL75_UX190_CR0,3,190,281_.jpg'}\n",
      "{'_id': ObjectId('639afa454158f6a45ece75ad'), 'acteurs': ['Jack Nicholson', 'Shelley Duvall', 'Danny Lloyd'], 'date': 1980, 'descriptions': 'A family heads to an isolated hotel for the winter where a sinister presence influences the father into violence, while his psychic son sees horrific forebodings from both past and future.', 'duree': 146, 'genre': ['Drama', 'Horror'], 'pays': ['United Kingdom', 'United States'], 'public': 'R', 'score': 8.4, 'titre': 'The Shining', 'titre_original': '', 'url': 'https://m.media-amazon.com/images/M/MV5BZWFlYmY2MGEtZjVkYS00YzU4LTg0YjQtYzY1ZGE3NTA5NGQxXkEyXkFqcGdeQXVyMTQxNzMzNDI@._V1_QL75_UX190_CR0,4,190,281_.jpg'}\n"
     ]
    }
   ],
   "source": [
    "horror_movies = movies.find({\"genre\":{\"$in\":[\"Horror\"]}}).sort(\"score\",-1).limit(3)\n",
    "for movie in horror_movies:\n",
    "    print(movie)"
   ]
  },
  {
   "cell_type": "code",
   "execution_count": 59,
   "metadata": {},
   "outputs": [
    {
     "name": "stdout",
     "output_type": "stream",
     "text": [
      "{'_id': ObjectId('639afa454158f6a45ece74e0'), 'acteurs': ['Tim Robbins', 'Morgan Freeman', 'Bob Gunton'], 'date': 1994, 'descriptions': 'Two imprisoned men bond over a number of years, finding solace and eventual redemption through acts of common decency.', 'duree': 142, 'genre': ['Drama'], 'pays': ['United States'], 'public': 'R', 'score': 9.3, 'titre': 'The Shawshank Redemption', 'titre_original': '', 'url': 'https://m.media-amazon.com/images/M/MV5BMDFkYTc0MGEtZmNhMC00ZDIzLWFmNTEtODM1ZmRlYWMwMWFmXkEyXkFqcGdeQXVyMTMxODk2OTU@._V1_QL75_UX190_CR0,0,190,281_.jpg'}\n",
      "{'_id': ObjectId('639afa454158f6a45ece75d8'), 'acteurs': ['Marlon Brando', 'Al Pacino', 'James Caan'], 'date': 1972, 'descriptions': 'The aging patriarch of an organized crime dynasty in postwar New York City transfers control of his clandestine empire to his reluctant youngest son.', 'duree': 175, 'genre': ['Crime', 'Drama'], 'pays': ['United States'], 'public': 'R', 'score': 9.2, 'titre': 'The Godfather', 'titre_original': '', 'url': 'https://m.media-amazon.com/images/M/MV5BM2MyNjYxNmUtYTAwNi00MTYxLWJmNWYtYzZlODY3ZTk3OTFlXkEyXkFqcGdeQXVyNzkwMjQ5NzM@._V1_QL75_UY281_CR4,0,190,281_.jpg'}\n",
      "{'_id': ObjectId('639afa454158f6a45ece75d5'), 'acteurs': ['Elijah Wood', 'Viggo Mortensen', 'Ian McKellen'], 'date': 2003, 'descriptions': \"Gandalf and Aragorn lead the World of Men against Sauron's army to draw his gaze from Frodo and Sam as they approach Mount Doom with the One Ring.\", 'duree': 201, 'genre': ['Action', 'Adventure', 'Drama'], 'pays': ['New Zealand', 'United States'], 'public': 'PG-13', 'score': 9.0, 'titre': 'The Lord of the Rings: The Return of the King', 'titre_original': '', 'url': 'https://m.media-amazon.com/images/M/MV5BNzA5ZDNlZWMtM2NhNS00NDJjLTk4NDItYTRmY2EwMWZlMTY3XkEyXkFqcGdeQXVyNzkwMjQ5NzM@._V1_QL75_UX190_CR0,0,190,281_.jpg'}\n"
     ]
    }
   ],
   "source": [
    "drama_movies = movies.find({\"genre\":{\"$in\":[\"Drama\"]}}).sort(\"score\",-1).limit(3)\n",
    "for movie in drama_movies:\n",
    "    print(movie)"
   ]
  },
  {
   "cell_type": "code",
   "execution_count": 60,
   "metadata": {},
   "outputs": [
    {
     "name": "stdout",
     "output_type": "stream",
     "text": [
      "{'_id': ObjectId('639afa454158f6a45ece74e6'), 'acteurs': ['Roberto Benigni', 'Nicoletta Braschi', 'Giorgio Cantarini'], 'date': 1997, 'descriptions': 'When an open-minded Jewish waiter and his son become victims of the Holocaust, he uses a perfect mixture of will, humor, and imagination to protect his son from the dangers around their camp.', 'duree': 116, 'genre': ['Comedy', 'Drama', 'Romance'], 'pays': ['Italy'], 'public': 'PG-13', 'score': 8.6, 'titre': 'Life Is Beautiful', 'titre_original': 'La vita è bella', 'url': 'https://m.media-amazon.com/images/M/MV5BYmJmM2Q4NmMtYThmNC00ZjRlLWEyZmItZTIwOTBlZDQ3NTQ1XkEyXkFqcGdeQXVyMTQxNzMzNDI@._V1_QL75_UX190_CR0,1,190,281_.jpg'}\n",
      "{'_id': ObjectId('639afa454158f6a45ece75b5'), 'acteurs': ['Charles Chaplin', 'Virginia Cherrill', 'Florence Lee'], 'date': 1931, 'descriptions': '', 'duree': 87, 'genre': ['Comedy', 'Drama', 'Romance'], 'pays': ['United States'], 'public': 'G', 'score': 8.5, 'titre': 'City Lights', 'titre_original': '', 'url': ''}\n",
      "{'_id': ObjectId('639afa454158f6a45ece74e2'), 'acteurs': ['Michael J. Fox', 'Christopher Lloyd', 'Lea Thompson'], 'date': 1985, 'descriptions': 'Marty McFly, a 17-year-old high school student, is accidentally sent 30 years into the past in a time-traveling DeLorean invented by his close friend, the maverick scientist Doc Brown.', 'duree': 116, 'genre': ['Adventure', 'Comedy', 'Sci-Fi'], 'pays': ['United States'], 'public': 'PG', 'score': 8.5, 'titre': 'Back to the Future', 'titre_original': '', 'url': 'https://m.media-amazon.com/images/M/MV5BZmU0M2Y1OGUtZjIxNi00ZjBkLTg1MjgtOWIyNThiZWIwYjRiXkEyXkFqcGdeQXVyMTQxNzMzNDI@._V1_QL75_UX190_CR0,7,190,281_.jpg'}\n"
     ]
    }
   ],
   "source": [
    "comedy_movies = movies.find({\"genre\":{\"$in\":[\"Comedy\"]}}).sort(\"score\",-1).limit(3)\n",
    "for movie in comedy_movies:\n",
    "    print(movie)"
   ]
  },
  {
   "attachments": {},
   "cell_type": "markdown",
   "metadata": {},
   "source": [
    "## Question 6"
   ]
  },
  {
   "cell_type": "code",
   "execution_count": 61,
   "metadata": {},
   "outputs": [
    {
     "name": "stdout",
     "output_type": "stream",
     "text": [
      "29.599999999999998\n"
     ]
    }
   ],
   "source": [
    "american_movies = movies.find().sort(\"score\",-1).limit(100)\n",
    "count=0\n",
    "for movie in american_movies:\n",
    "    if \"United States\" in movie[\"pays\"]:\n",
    "        count +=1\n",
    "pourcentage = count/250\n",
    "print(pourcentage*100)"
   ]
  },
  {
   "cell_type": "code",
   "execution_count": 62,
   "metadata": {},
   "outputs": [
    {
     "name": "stdout",
     "output_type": "stream",
     "text": [
      "City of God 8.6\n",
      "Cinema Paradiso 8.5\n",
      "The Intouchables 8.5\n",
      "Léon: The Professional 8.5\n",
      "The Pianist 8.5\n",
      "Capernaum 8.4\n",
      "The Boat 8.4\n",
      "Amadeus 8.4\n",
      "The Lives of Others 8.4\n",
      "A Separation 8.3\n",
      "Incendies 8.3\n",
      "Amélie 8.3\n",
      "The Passion of Joan of Arc 8.2\n",
      "The Wages of Fear 8.2\n",
      "Casino 8.2\n",
      "Ran 8.2\n",
      "The Father 8.2\n",
      "The 400 Blows 8.1\n",
      "La haine 8.1\n",
      "Before Sunset 8.1\n",
      "Wild Tales 8.1\n"
     ]
    }
   ],
   "source": [
    "french_movies = movies.find({\"pays\":{\"$in\":[\"France\"]}}).sort(\"score\",-1).limit(100)\n",
    "for movie in french_movies:\n",
    "    print(movie[\"titre\"],movie[\"score\"])"
   ]
  },
  {
   "cell_type": "code",
   "execution_count": 63,
   "metadata": {},
   "outputs": [
    {
     "data": {
      "text/plain": [
       "'Dans le Top 100 des films : US (72%) FR (10%)'"
      ]
     },
     "execution_count": 63,
     "metadata": {},
     "output_type": "execute_result"
    }
   ],
   "source": [
    "top_100 = movies.find().sort(\"score\", -1)[:100]\n",
    "france = 0\n",
    "us = 0\n",
    "for i in top_100:\n",
    "    if \"France\" in i['pays']  :\n",
    "        france += 1\n",
    "    elif \"United States\" in i['pays'] :\n",
    "        us += 1\n",
    "f\"Dans le Top 100 des films : US ({us}%) FR ({france}%)\""
   ]
  },
  {
   "attachments": {},
   "cell_type": "markdown",
   "metadata": {},
   "source": [
    "## Question n°7\n"
   ]
  },
  {
   "cell_type": "code",
   "execution_count": 64,
   "metadata": {},
   "outputs": [
    {
     "name": "stdout",
     "output_type": "stream",
     "text": [
      "['Drama', 'Adventure', 'Sci-Fi', 'Comedy', 'War', 'Action', 'Fantasy', 'Romance', 'Crime', 'Thriller', 'Mystery', 'Family', 'Biography', 'History', 'Animation', 'Film-Noir', 'Horror', 'Sport', 'Western', 'Music', 'Musical'] 21\n"
     ]
    }
   ],
   "source": [
    "liste_genre =[]\n",
    "list_movies = movies.find()\n",
    "for movie in list_movies:\n",
    "    genre_movie = movie[\"genre\"]\n",
    "    for genre in genre_movie:\n",
    "        if not genre in liste_genre:\n",
    "            liste_genre.append(genre)\n",
    "print(liste_genre, len(liste_genre))"
   ]
  },
  {
   "cell_type": "code",
   "execution_count": 65,
   "metadata": {},
   "outputs": [
    {
     "name": "stderr",
     "output_type": "stream",
     "text": [
      "/tmp/ipykernel_18242/386818461.py:5: DeprecationWarning: count is deprecated. Use Collection.count_documents instead.\n",
      "  nb_movies=list_movies.count()\n"
     ]
    }
   ],
   "source": [
    "dict_temps_genre={}\n",
    "for genre in liste_genre:\n",
    "    temps_total = 0\n",
    "    list_movies = movies.find({\"genre\":{\"$in\":[genre]}})\n",
    "    nb_movies=list_movies.count()\n",
    "    \n",
    "    for movie in list_movies:\n",
    "        temps_total = movie[\"duree\"] + temps_total\n",
    "\n",
    "    dict_temps_genre[genre] =  temps_total/nb_movies\n",
    "\n"
   ]
  },
  {
   "cell_type": "code",
   "execution_count": 66,
   "metadata": {},
   "outputs": [
    {
     "name": "stdout",
     "output_type": "stream",
     "text": [
      "Le temps moyen du genre Drama est 134.64 minutes \n",
      "Le temps moyen du genre Adventure est 129.42 minutes \n",
      "Le temps moyen du genre Sci-Fi est 131.7 minutes \n",
      "Le temps moyen du genre Comedy est 106.33 minutes \n",
      "Le temps moyen du genre War est 140.43 minutes \n",
      "Le temps moyen du genre Action est 133.92 minutes \n",
      "Le temps moyen du genre Fantasy est 123.57 minutes \n",
      "Le temps moyen du genre Romance est 118.48 minutes \n",
      "Le temps moyen du genre Crime est 131.78 minutes \n",
      "Le temps moyen du genre Thriller est 121.03 minutes \n",
      "Le temps moyen du genre Mystery est 124.61 minutes \n",
      "Le temps moyen du genre Family est 114.54 minutes \n",
      "Le temps moyen du genre Biography est 147.07 minutes \n",
      "Le temps moyen du genre History est 156.0 minutes \n",
      "Le temps moyen du genre Animation est 100.96 minutes \n",
      "Le temps moyen du genre Film-Noir est 110.0 minutes \n",
      "Le temps moyen du genre Horror est 120.6 minutes \n",
      "Le temps moyen du genre Sport est 122.0 minutes \n",
      "Le temps moyen du genre Western est 149.33 minutes \n",
      "Le temps moyen du genre Music est 134.25 minutes \n",
      "Le temps moyen du genre Musical est 103.0 minutes \n"
     ]
    }
   ],
   "source": [
    "for key,value in dict_temps_genre.items():\n",
    "    print(f\"Le temps moyen du genre {key} est {round(value,2)} minutes \")"
   ]
  }
 ],
 "metadata": {
  "kernelspec": {
   "display_name": "scrapping",
   "language": "python",
   "name": "python3"
  },
  "language_info": {
   "codemirror_mode": {
    "name": "ipython",
    "version": 3
   },
   "file_extension": ".py",
   "mimetype": "text/x-python",
   "name": "python",
   "nbconvert_exporter": "python",
   "pygments_lexer": "ipython3",
   "version": "3.9.15"
  },
  "orig_nbformat": 4,
  "vscode": {
   "interpreter": {
    "hash": "fd3b62b4e3a46936b70179a21ff0662b5c0041470bf23202501292961aa31bd6"
   }
  }
 },
 "nbformat": 4,
 "nbformat_minor": 2
}
