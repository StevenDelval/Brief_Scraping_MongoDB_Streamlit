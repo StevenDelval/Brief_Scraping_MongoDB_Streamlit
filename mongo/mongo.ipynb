{
 "cells": [
  {
   "cell_type": "code",
   "execution_count": 55,
   "metadata": {},
   "outputs": [],
   "source": [
    "import pandas as pd\n",
    "from pymongo import MongoClient\n",
    "import re\n",
    "import csv\n"
   ]
  },
  {
   "attachments": {},
   "cell_type": "markdown",
   "metadata": {},
   "source": [
    "### Connection avec mongodb\n"
   ]
  },
  {
   "cell_type": "code",
   "execution_count": 56,
   "metadata": {},
   "outputs": [],
   "source": [
    "client = MongoClient(\"localhost:27017\")\n",
    "database = client.scrapyPipeline\n",
    "movies = database.movies\n",
    "serie = database.serie\n",
    "# movies.drop()\n",
    "# serie.drop()"
   ]
  },
  {
   "attachments": {},
   "cell_type": "markdown",
   "metadata": {},
   "source": [
    "### Nettoyage des données"
   ]
  },
  {
   "cell_type": "code",
   "execution_count": 57,
   "metadata": {},
   "outputs": [],
   "source": [
    "# df_movie = pd.read_csv(\"csv/items.csv\")\n",
    "# df_serie = pd.read_csv(\"csv/serie.csv\")"
   ]
  },
  {
   "cell_type": "code",
   "execution_count": 58,
   "metadata": {},
   "outputs": [],
   "source": [
    "# df_movie[\"titre_original\"].replace(to_replace=\"Original title: \", value='', regex=True,inplace=True)\n"
   ]
  },
  {
   "cell_type": "code",
   "execution_count": 59,
   "metadata": {},
   "outputs": [],
   "source": [
    "# df_movie[\"duree\"].replace(to_replace=\",\", value='', regex=True,inplace=True)\n",
    "# df_serie[\"duree\"].replace(to_replace=\",\", value='', regex=True,inplace=True)\n",
    "def convertion_duree(s):\n",
    "    \n",
    "    split_cell = re.split(\"\\s\", s)\n",
    "    duree = 0\n",
    "    for elt in split_cell:\n",
    "        if \"h\" in elt:\n",
    "            duree = int(re.split(\"h\", elt)[0]) *60 +duree\n",
    "        elif \"m\" in elt:\n",
    "            duree =int(re.split(\"m\", elt)[0]) +duree\n",
    "    return duree\n",
    "    \n",
    "\n",
    "\n",
    "\n",
    "\n",
    "# df_movie['duree'] = df_movie['duree'].apply(lambda x :  convertion_duree(str(x)))\n",
    "# df_serie['duree'] = df_serie['duree'].apply(lambda x :  convertion_duree(str(x)))\n",
    "\n"
   ]
  },
  {
   "cell_type": "code",
   "execution_count": 60,
   "metadata": {},
   "outputs": [],
   "source": [
    "# df_movie.to_csv(\"csv/items.csv\",index=False)\n",
    "# df_serie.to_csv(\"csv/serie.csv\",index=False)"
   ]
  },
  {
   "attachments": {},
   "cell_type": "markdown",
   "metadata": {},
   "source": [
    "### Import des données dans mongodb"
   ]
  },
  {
   "cell_type": "code",
   "execution_count": 61,
   "metadata": {},
   "outputs": [],
   "source": [
    "# header = [\"acteurs\",\"date\",\"descriptions\",\"duree\",\"genre\",\"pays\",\"public\",\"score\",\"titre\",\"titre_original\",\"url\"]\n",
    "# csvfile = open('csv/items.csv', 'r')\n",
    "# reader = csv.DictReader( csvfile )\n",
    "\n",
    "# for each in reader:\n",
    "#     row={}\n",
    "#     for field in header:\n",
    "\n",
    "#         if field in  [\"acteurs\",\"genre\",\"pays\"]:\n",
    "#             row[field]=each[field].split(\",\")\n",
    "#         elif field in [\"date\",\"duree\"]:\n",
    "#             row[field]=int(each[field])\n",
    "#         elif field ==\"score\":\n",
    "#             row[field]=float(each[field])\n",
    "#         else :\n",
    "#             row[field]=each[field]\n",
    "        \n",
    "#     movies.insert_one(row)"
   ]
  },
  {
   "cell_type": "code",
   "execution_count": 62,
   "metadata": {},
   "outputs": [],
   "source": [
    "# header = [\"acteurs\",\"date\",\"descriptions\",\"duree\",\"genre\",\"pays\",\"public\",\"score\",\"titre\",\"titre_original\"]\n",
    "# csvfile = open('csv/serie.csv', 'r')\n",
    "# reader = csv.DictReader( csvfile )\n",
    "\n",
    "# for each in reader:\n",
    "#     row={}\n",
    "#     for field in header:\n",
    "\n",
    "#         if field in  [\"acteurs\",\"genre\",\"pays\"]:\n",
    "#             row[field]=each[field].split(\",\")\n",
    "#         elif field in [\"duree\"]:\n",
    "#             row[field]=int(each[field])\n",
    "#         elif field ==\"score\":\n",
    "#             row[field]=float(each[field])\n",
    "#         else :\n",
    "#             row[field]=each[field]  \n",
    "        \n",
    "#     serie.insert_one(row)"
   ]
  },
  {
   "attachments": {},
   "cell_type": "markdown",
   "metadata": {},
   "source": [
    "## question n°1"
   ]
  },
  {
   "cell_type": "code",
   "execution_count": 63,
   "metadata": {},
   "outputs": [
    {
     "data": {
      "text/plain": [
       "{'_id': ObjectId('639c6900a922183b556d3b3a'),\n",
       " 'titre': 'Gone with the Wind',\n",
       " 'titre_original': '',\n",
       " 'score': 8.2,\n",
       " 'genre': ['Drama', 'Romance', 'War'],\n",
       " 'date': 1939,\n",
       " 'duree': 238,\n",
       " 'descriptions': 'The manipulative daughter of a Georgia plantation owner conducts a turbulent romance with a roguish profiteer during the American Civil War and Reconstruction periods.',\n",
       " 'acteurs': ['Clark Gable', 'Vivien Leigh', 'Thomas Mitchell'],\n",
       " 'public': 'Passed',\n",
       " 'pays': ['United States'],\n",
       " 'url': 'https://m.media-amazon.com/images/M/MV5BYjUyZWZkM2UtMzYxYy00ZmQ3LWFmZTQtOGE2YjBkNjA3YWZlXkEyXkFqcGdeQXVyNzkwMjQ5NzM@._V1_QL75_UX190_CR0,5,190,281_.jpg',\n",
       " 'langue': ['English']}"
      ]
     },
     "execution_count": 63,
     "metadata": {},
     "output_type": "execute_result"
    }
   ],
   "source": [
    "movies.find().sort(\"duree\",-1).limit(1)[0]"
   ]
  },
  {
   "attachments": {},
   "cell_type": "markdown",
   "metadata": {},
   "source": [
    "## Question n°2"
   ]
  },
  {
   "cell_type": "code",
   "execution_count": 64,
   "metadata": {},
   "outputs": [
    {
     "name": "stdout",
     "output_type": "stream",
     "text": [
      "The Shawshank Redemption\n",
      "The Godfather\n",
      "The Godfather Part II\n",
      "Schindler's List\n",
      "12 Angry Men\n"
     ]
    }
   ],
   "source": [
    "five_movies=movies.find().sort(\"score\",-1).limit(5)\n",
    "for movie in five_movies:\n",
    "    print(movie[\"titre\"])"
   ]
  },
  {
   "attachments": {},
   "cell_type": "markdown",
   "metadata": {},
   "source": [
    "## Question n°3\n"
   ]
  },
  {
   "cell_type": "code",
   "execution_count": 65,
   "metadata": {},
   "outputs": [
    {
     "name": "stdout",
     "output_type": "stream",
     "text": [
      "The Shawshank Redemption\n",
      "Se7en\n",
      "Million Dollar Baby\n",
      "Unforgiven\n",
      "4\n"
     ]
    },
    {
     "name": "stderr",
     "output_type": "stream",
     "text": [
      "/tmp/ipykernel_35554/2969739726.py:4: DeprecationWarning: count is deprecated. Use Collection.count_documents instead.\n",
      "  count=movies.find({\"acteurs\":{\"$in\":[\"Morgan Freeman\"]}}).count()\n"
     ]
    }
   ],
   "source": [
    "Freeman_movies = movies.find({\"acteurs\":{\"$in\":[\"Morgan Freeman\"]}})\n",
    "for movie in Freeman_movies:\n",
    "    print(movie[\"titre\"])\n",
    "count=movies.find({\"acteurs\":{\"$in\":[\"Morgan Freeman\"]}}).count()\n",
    "print(count)"
   ]
  },
  {
   "cell_type": "code",
   "execution_count": 66,
   "metadata": {},
   "outputs": [
    {
     "name": "stdout",
     "output_type": "stream",
     "text": [
      "Top Gun: Maverick\n",
      "1\n"
     ]
    },
    {
     "name": "stderr",
     "output_type": "stream",
     "text": [
      "/tmp/ipykernel_35554/432494079.py:4: DeprecationWarning: count is deprecated. Use Collection.count_documents instead.\n",
      "  count=movies.find({\"acteurs\":{\"$in\":[\"Tom Cruise\"]}}).count()\n"
     ]
    }
   ],
   "source": [
    "Cruise_movies = movies.find({\"acteurs\":{\"$in\":[\"Tom Cruise\"]}})\n",
    "for movie in Cruise_movies:\n",
    "    print(movie[\"titre\"])\n",
    "count=movies.find({\"acteurs\":{\"$in\":[\"Tom Cruise\"]}}).count()\n",
    "print(count)"
   ]
  },
  {
   "attachments": {},
   "cell_type": "markdown",
   "metadata": {},
   "source": [
    "## Question n°4"
   ]
  },
  {
   "cell_type": "code",
   "execution_count": 67,
   "metadata": {},
   "outputs": [
    {
     "name": "stdout",
     "output_type": "stream",
     "text": [
      "Psycho\n",
      "Alien\n",
      "The Shining\n"
     ]
    }
   ],
   "source": [
    "horror_movies = movies.find({\"genre\":{\"$in\":[\"Horror\"]}}).sort(\"score\",-1).limit(3)\n",
    "for movie in horror_movies:\n",
    "    print(movie[\"titre\"])"
   ]
  },
  {
   "cell_type": "code",
   "execution_count": 68,
   "metadata": {},
   "outputs": [
    {
     "name": "stdout",
     "output_type": "stream",
     "text": [
      "The Shawshank Redemption\n",
      "The Godfather\n",
      "12 Angry Men\n"
     ]
    }
   ],
   "source": [
    "drama_movies = movies.find({\"genre\":{\"$in\":[\"Drama\"]}}).sort(\"score\",-1).limit(3)\n",
    "for movie in drama_movies:\n",
    "    print(movie[\"titre\"])"
   ]
  },
  {
   "cell_type": "code",
   "execution_count": 69,
   "metadata": {},
   "outputs": [
    {
     "name": "stdout",
     "output_type": "stream",
     "text": [
      "Life Is Beautiful\n",
      "Modern Times\n",
      "The Intouchables\n"
     ]
    }
   ],
   "source": [
    "comedy_movies = movies.find({\"genre\":{\"$in\":[\"Comedy\"]}}).sort(\"score\",-1).limit(3)\n",
    "for movie in comedy_movies:\n",
    "    print(movie[\"titre\"])"
   ]
  },
  {
   "attachments": {},
   "cell_type": "markdown",
   "metadata": {},
   "source": [
    "## Question 6"
   ]
  },
  {
   "cell_type": "code",
   "execution_count": 80,
   "metadata": {},
   "outputs": [
    {
     "name": "stdout",
     "output_type": "stream",
     "text": [
      "74\n"
     ]
    }
   ],
   "source": [
    "american_movies = movies.find().sort(\"score\",-1).limit(100)\n",
    "count=0\n",
    "for movie in american_movies:\n",
    "    if \"United States\" in movie[\"pays\"]:\n",
    "        count +=1\n",
    "\n",
    "print(count)"
   ]
  },
  {
   "cell_type": "code",
   "execution_count": 71,
   "metadata": {},
   "outputs": [
    {
     "name": "stdout",
     "output_type": "stream",
     "text": [
      "11\n"
     ]
    }
   ],
   "source": [
    "liste_movies = movies.find().sort(\"score\",-1).limit(100)\n",
    "count=0\n",
    "for movie in liste_movies:\n",
    "    if \"France\" in movie[\"pays\"]:\n",
    "        count +=1\n",
    "pourcentage = count\n",
    "print(pourcentage)"
   ]
  },
  {
   "cell_type": "code",
   "execution_count": 81,
   "metadata": {},
   "outputs": [
    {
     "data": {
      "text/plain": [
       "'Dans le Top 100 des films : US (74%) FR (11%)'"
      ]
     },
     "execution_count": 81,
     "metadata": {},
     "output_type": "execute_result"
    }
   ],
   "source": [
    "top_100 = movies.find().sort(\"score\",-1).limit(100)\n",
    "france = 0\n",
    "us = 0\n",
    "for movie in top_100:\n",
    "    if \"France\" in movie[\"pays\"]:\n",
    "        france += 1\n",
    "    if \"United States\" in movie[\"pays\"]:\n",
    "        us += 1\n",
    "f\"Dans le Top 100 des films : US ({us}%) FR ({france}%)\""
   ]
  },
  {
   "attachments": {},
   "cell_type": "markdown",
   "metadata": {},
   "source": [
    "## Question n°7\n"
   ]
  },
  {
   "cell_type": "code",
   "execution_count": 73,
   "metadata": {},
   "outputs": [
    {
     "name": "stdout",
     "output_type": "stream",
     "text": [
      "['Drama', 'Action', 'Sci-Fi', 'Biography', 'Crime', 'Mystery', 'Family', 'Fantasy', 'Thriller', 'Adventure', 'Western', 'Romance', 'History', 'Animation', 'Comedy', 'Film-Noir', 'War', 'Horror', 'Sport', 'Music', 'Musical'] 21\n"
     ]
    }
   ],
   "source": [
    "liste_genre =[]\n",
    "list_movies = movies.find()\n",
    "for movie in list_movies:\n",
    "    genre_movie = movie[\"genre\"]\n",
    "    for genre in genre_movie:\n",
    "        if not genre in liste_genre:\n",
    "            liste_genre.append(genre)\n",
    "print(liste_genre, len(liste_genre))"
   ]
  },
  {
   "cell_type": "code",
   "execution_count": 78,
   "metadata": {},
   "outputs": [
    {
     "name": "stdout",
     "output_type": "stream",
     "text": [
      "{'Drama': 134.63636363636363, 'Action': 133.92156862745097, 'Sci-Fi': 131.7, 'Biography': 147.06896551724137, 'Crime': 131.7843137254902, 'Mystery': 124.61290322580645, 'Family': 114.53846153846153, 'Fantasy': 123.57142857142857, 'Thriller': 121.03333333333333, 'Adventure': 129.41666666666666, 'Western': 149.33333333333334, 'Romance': 118.47826086956522, 'History': 156.0, 'Animation': 100.95652173913044, 'Comedy': 106.32608695652173, 'Film-Noir': 110.0, 'War': 140.43478260869566, 'Horror': 120.6, 'Sport': 122.0, 'Music': 134.25, 'Musical': 103.0}\n"
     ]
    },
    {
     "name": "stderr",
     "output_type": "stream",
     "text": [
      "/tmp/ipykernel_35554/3980943192.py:5: DeprecationWarning: count is deprecated. Use Collection.count_documents instead.\n",
      "  nb_movies=list_movies.count()\n"
     ]
    }
   ],
   "source": [
    "dict_temps_genre={}\n",
    "for genre in liste_genre:\n",
    "    temps_total = 0\n",
    "    list_movies = movies.find({\"genre\":{\"$in\":[genre]}})\n",
    "    nb_movies=list_movies.count()\n",
    "    \n",
    "    for movie in list_movies:\n",
    "        temps_total = movie[\"duree\"] + temps_total\n",
    "\n",
    "    dict_temps_genre[genre] =  temps_total/nb_movies\n",
    "print(dict_temps_genre)\n"
   ]
  },
  {
   "cell_type": "code",
   "execution_count": 75,
   "metadata": {},
   "outputs": [
    {
     "name": "stdout",
     "output_type": "stream",
     "text": [
      "{'_id': 'Thriller', 'duree': 121.03333333333333}\n",
      "{'_id': 'Fantasy', 'duree': 123.57142857142857}\n",
      "{'_id': 'Musical', 'duree': 103.0}\n",
      "{'_id': 'Film-Noir', 'duree': 110.0}\n",
      "{'_id': 'Animation', 'duree': 100.95652173913044}\n",
      "{'_id': 'War', 'duree': 140.43478260869566}\n",
      "{'_id': 'Romance', 'duree': 118.47826086956522}\n",
      "{'_id': 'Action', 'duree': 133.92156862745097}\n",
      "{'_id': 'Comedy', 'duree': 106.32608695652173}\n",
      "{'_id': 'Horror', 'duree': 120.6}\n",
      "{'_id': 'Drama', 'duree': 134.63636363636363}\n",
      "{'_id': 'Sci-Fi', 'duree': 131.7}\n",
      "{'_id': 'Music', 'duree': 134.25}\n",
      "{'_id': 'Crime', 'duree': 131.7843137254902}\n",
      "{'_id': 'Adventure', 'duree': 129.41666666666666}\n",
      "{'_id': 'History', 'duree': 156.0}\n",
      "{'_id': 'Biography', 'duree': 147.06896551724137}\n",
      "{'_id': 'Family', 'duree': 114.53846153846153}\n",
      "{'_id': 'Mystery', 'duree': 124.61290322580645}\n",
      "{'_id': 'Sport', 'duree': 122.0}\n",
      "{'_id': 'Western', 'duree': 149.33333333333334}\n"
     ]
    }
   ],
   "source": [
    "avg_genre= (movies.aggregate([\n",
    "    {\"$unwind\":\"$genre\"},\n",
    "        {\"$group\": {\n",
    "            \"_id\": \"$genre\",\"duree\": { \"$avg\": \"$duree\" }\n",
    "        }\n",
    "    }\n",
    "]))\n",
    "for i in avg_genre:\n",
    "    print(i)"
   ]
  },
  {
   "cell_type": "code",
   "execution_count": 76,
   "metadata": {},
   "outputs": [
    {
     "name": "stdout",
     "output_type": "stream",
     "text": [
      "Le temps moyen du genre Drama est 134.64 minutes \n",
      "Le temps moyen du genre Action est 133.92 minutes \n",
      "Le temps moyen du genre Sci-Fi est 131.7 minutes \n",
      "Le temps moyen du genre Biography est 147.07 minutes \n",
      "Le temps moyen du genre Crime est 131.78 minutes \n",
      "Le temps moyen du genre Mystery est 124.61 minutes \n",
      "Le temps moyen du genre Family est 114.54 minutes \n",
      "Le temps moyen du genre Fantasy est 123.57 minutes \n",
      "Le temps moyen du genre Thriller est 121.03 minutes \n",
      "Le temps moyen du genre Adventure est 129.42 minutes \n",
      "Le temps moyen du genre Western est 149.33 minutes \n",
      "Le temps moyen du genre Romance est 118.48 minutes \n",
      "Le temps moyen du genre History est 156.0 minutes \n",
      "Le temps moyen du genre Animation est 100.96 minutes \n",
      "Le temps moyen du genre Comedy est 106.33 minutes \n",
      "Le temps moyen du genre Film-Noir est 110.0 minutes \n",
      "Le temps moyen du genre War est 140.43 minutes \n",
      "Le temps moyen du genre Horror est 120.6 minutes \n",
      "Le temps moyen du genre Sport est 122.0 minutes \n",
      "Le temps moyen du genre Music est 134.25 minutes \n",
      "Le temps moyen du genre Musical est 103.0 minutes \n"
     ]
    }
   ],
   "source": [
    "for key,value in dict_temps_genre.items():\n",
    "    print(f\"Le temps moyen du genre {key} est {round(value,2)} minutes \")"
   ]
  }
 ],
 "metadata": {
  "kernelspec": {
   "display_name": "scrapping",
   "language": "python",
   "name": "python3"
  },
  "language_info": {
   "codemirror_mode": {
    "name": "ipython",
    "version": 3
   },
   "file_extension": ".py",
   "mimetype": "text/x-python",
   "name": "python",
   "nbconvert_exporter": "python",
   "pygments_lexer": "ipython3",
   "version": "3.9.15"
  },
  "orig_nbformat": 4,
  "vscode": {
   "interpreter": {
    "hash": "fd3b62b4e3a46936b70179a21ff0662b5c0041470bf23202501292961aa31bd6"
   }
  }
 },
 "nbformat": 4,
 "nbformat_minor": 2
}
