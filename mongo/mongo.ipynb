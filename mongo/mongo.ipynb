{
 "cells": [
  {
   "cell_type": "code",
   "execution_count": 1,
   "metadata": {},
   "outputs": [],
   "source": [
    "import pandas as pd\n",
    "from pymongo import MongoClient\n",
    "import re\n",
    "import csv\n"
   ]
  },
  {
   "attachments": {},
   "cell_type": "markdown",
   "metadata": {},
   "source": [
    "### Connection avec mongodb\n"
   ]
  },
  {
   "cell_type": "code",
   "execution_count": 2,
   "metadata": {},
   "outputs": [],
   "source": [
    "client = MongoClient(\"localhost:27017\")\n",
    "database = client.scrapyPipeline\n",
    "movies = database.movies\n",
    "serie = database.serie\n",
    "# movies.drop()\n",
    "# serie.drop()"
   ]
  },
  {
   "attachments": {},
   "cell_type": "markdown",
   "metadata": {},
   "source": [
    "### Nettoyage des données"
   ]
  },
  {
   "cell_type": "code",
   "execution_count": 3,
   "metadata": {},
   "outputs": [],
   "source": [
    "# df_movie = pd.read_csv(\"csv/items.csv\")\n",
    "# df_serie = pd.read_csv(\"csv/serie.csv\")"
   ]
  },
  {
   "cell_type": "code",
   "execution_count": 4,
   "metadata": {},
   "outputs": [],
   "source": [
    "# df_movie[\"titre_original\"].replace(to_replace=\"Original title: \", value='', regex=True,inplace=True)\n"
   ]
  },
  {
   "cell_type": "code",
   "execution_count": 5,
   "metadata": {},
   "outputs": [],
   "source": [
    "# df_movie[\"duree\"].replace(to_replace=\",\", value='', regex=True,inplace=True)\n",
    "# df_serie[\"duree\"].replace(to_replace=\",\", value='', regex=True,inplace=True)\n",
    "def convertion_duree(s):\n",
    "    \n",
    "    split_cell = re.split(\"\\s\", s)\n",
    "    duree = 0\n",
    "    for elt in split_cell:\n",
    "        if \"h\" in elt:\n",
    "            duree = int(re.split(\"h\", elt)[0]) *60 +duree\n",
    "        elif \"m\" in elt:\n",
    "            duree =int(re.split(\"m\", elt)[0]) +duree\n",
    "    return duree\n",
    "    \n",
    "\n",
    "\n",
    "\n",
    "\n",
    "# df_movie['duree'] = df_movie['duree'].apply(lambda x :  convertion_duree(str(x)))\n",
    "# df_serie['duree'] = df_serie['duree'].apply(lambda x :  convertion_duree(str(x)))\n",
    "\n"
   ]
  },
  {
   "cell_type": "code",
   "execution_count": 6,
   "metadata": {},
   "outputs": [],
   "source": [
    "# df_movie.to_csv(\"csv/items.csv\",index=False)\n",
    "# df_serie.to_csv(\"csv/serie.csv\",index=False)"
   ]
  },
  {
   "attachments": {},
   "cell_type": "markdown",
   "metadata": {},
   "source": [
    "### Import des données dans mongodb"
   ]
  },
  {
   "cell_type": "code",
   "execution_count": 7,
   "metadata": {},
   "outputs": [],
   "source": [
    "# header = [\"acteurs\",\"date\",\"descriptions\",\"duree\",\"genre\",\"pays\",\"public\",\"score\",\"titre\",\"titre_original\",\"url\"]\n",
    "# csvfile = open('csv/items.csv', 'r')\n",
    "# reader = csv.DictReader( csvfile )\n",
    "\n",
    "# for each in reader:\n",
    "#     row={}\n",
    "#     for field in header:\n",
    "\n",
    "#         if field in  [\"acteurs\",\"genre\",\"pays\"]:\n",
    "#             row[field]=each[field].split(\",\")\n",
    "#         elif field in [\"date\",\"duree\"]:\n",
    "#             row[field]=int(each[field])\n",
    "#         elif field ==\"score\":\n",
    "#             row[field]=float(each[field])\n",
    "#         else :\n",
    "#             row[field]=each[field]\n",
    "        \n",
    "#     movies.insert_one(row)"
   ]
  },
  {
   "cell_type": "code",
   "execution_count": 8,
   "metadata": {},
   "outputs": [],
   "source": [
    "# header = [\"acteurs\",\"date\",\"descriptions\",\"duree\",\"genre\",\"pays\",\"public\",\"score\",\"titre\",\"titre_original\"]\n",
    "# csvfile = open('csv/serie.csv', 'r')\n",
    "# reader = csv.DictReader( csvfile )\n",
    "\n",
    "# for each in reader:\n",
    "#     row={}\n",
    "#     for field in header:\n",
    "\n",
    "#         if field in  [\"acteurs\",\"genre\",\"pays\"]:\n",
    "#             row[field]=each[field].split(\",\")\n",
    "#         elif field in [\"duree\"]:\n",
    "#             row[field]=int(each[field])\n",
    "#         elif field ==\"score\":\n",
    "#             row[field]=float(each[field])\n",
    "#         else :\n",
    "#             row[field]=each[field]  \n",
    "        \n",
    "#     serie.insert_one(row)"
   ]
  },
  {
   "attachments": {},
   "cell_type": "markdown",
   "metadata": {},
   "source": [
    "## question n°1"
   ]
  },
  {
   "cell_type": "code",
   "execution_count": 9,
   "metadata": {},
   "outputs": [
    {
     "data": {
      "text/plain": [
       "{'_id': ObjectId('639b41ed0913ab014f14c6a5'),\n",
       " 'titre': 'Gone with the Wind',\n",
       " 'titre_original': '',\n",
       " 'score': 8.2,\n",
       " 'genre': ['Drama', 'Romance', 'War'],\n",
       " 'date': 1939,\n",
       " 'duree': 238,\n",
       " 'descriptions': 'The manipulative daughter of a Georgia plantation owner conducts a turbulent romance with a roguish profiteer during the American Civil War and Reconstruction periods.',\n",
       " 'acteurs': ['Clark Gable', 'Vivien Leigh', 'Thomas Mitchell'],\n",
       " 'public': 'Passed',\n",
       " 'pays': ['United States'],\n",
       " 'url': 'https://m.media-amazon.com/images/M/MV5BYjUyZWZkM2UtMzYxYy00ZmQ3LWFmZTQtOGE2YjBkNjA3YWZlXkEyXkFqcGdeQXVyNzkwMjQ5NzM@._V1_QL75_UX190_CR0,5,190,281_.jpg',\n",
       " 'langue': ['English']}"
      ]
     },
     "execution_count": 9,
     "metadata": {},
     "output_type": "execute_result"
    }
   ],
   "source": [
    "movies.find().sort(\"duree\",-1).limit(1)[0]"
   ]
  },
  {
   "attachments": {},
   "cell_type": "markdown",
   "metadata": {},
   "source": [
    "## Question n°2"
   ]
  },
  {
   "cell_type": "code",
   "execution_count": 10,
   "metadata": {},
   "outputs": [
    {
     "name": "stdout",
     "output_type": "stream",
     "text": [
      "{'_id': ObjectId('639b41de0913ab014f14c63c'), 'titre': 'The Shawshank Redemption', 'titre_original': '', 'score': 9.3, 'genre': ['Drama'], 'date': 1994, 'duree': 142, 'descriptions': 'Two imprisoned men bond over a number of years, finding solace and eventual redemption through acts of common decency.', 'acteurs': ['Tim Robbins', 'Morgan Freeman', 'Bob Gunton'], 'public': 'R', 'pays': ['United States'], 'url': 'https://m.media-amazon.com/images/M/MV5BMDFkYTc0MGEtZmNhMC00ZDIzLWFmNTEtODM1ZmRlYWMwMWFmXkEyXkFqcGdeQXVyMTMxODk2OTU@._V1_QL75_UX190_CR0,0,190,281_.jpg', 'langue': ['English']}\n",
      "{'_id': ObjectId('639b42010913ab014f14c735'), 'titre': 'The Godfather', 'titre_original': '', 'score': 9.2, 'genre': ['Crime', 'Drama'], 'date': 1972, 'duree': 175, 'descriptions': 'The aging patriarch of an organized crime dynasty in postwar New York City transfers control of his clandestine empire to his reluctant youngest son.', 'acteurs': ['Marlon Brando', 'Al Pacino', 'James Caan'], 'public': 'R', 'pays': ['United States'], 'url': 'https://m.media-amazon.com/images/M/MV5BM2MyNjYxNmUtYTAwNi00MTYxLWJmNWYtYzZlODY3ZTk3OTFlXkEyXkFqcGdeQXVyNzkwMjQ5NzM@._V1_QL75_UY281_CR4,0,190,281_.jpg', 'langue': ['English', 'Italian', 'Latin']}\n",
      "{'_id': ObjectId('639b42010913ab014f14c733'), 'titre': 'The Godfather Part II', 'titre_original': '', 'score': 9.0, 'genre': ['Crime', 'Drama'], 'date': 1974, 'duree': 202, 'descriptions': 'The early life and career of Vito Corleone in 1920s New York City is portrayed, while his son, Michael, expands and tightens his grip on the family crime syndicate.', 'acteurs': ['Al Pacino', 'Robert De Niro', 'Robert Duvall'], 'public': 'R', 'pays': ['United States'], 'url': 'https://m.media-amazon.com/images/M/MV5BMWMwMGQzZTItY2JlNC00OWZiLWIyMDctNDk2ZDQ2YjRjMWQ0XkEyXkFqcGdeQXVyNzkwMjQ5NzM@._V1_QL75_UY281_CR4,0,190,281_.jpg', 'langue': ['English', 'Italian', 'Spanish', 'Latin', 'Sicilian']}\n",
      "{'_id': ObjectId('639b42010913ab014f14c732'), 'titre': \"Schindler's List\", 'titre_original': '', 'score': 9.0, 'genre': ['Biography', 'Drama', 'History'], 'date': 1993, 'duree': 195, 'descriptions': 'In German-occupied Poland during World War II, industrialist Oskar Schindler gradually becomes concerned for his Jewish workforce after witnessing their persecution by the Nazis.', 'acteurs': ['Liam Neeson', 'Ralph Fiennes', 'Ben Kingsley'], 'public': 'R', 'pays': ['United States'], 'url': 'https://m.media-amazon.com/images/M/MV5BNDE4OTMxMTctNmRhYy00NWE2LTg3YzItYTk3M2UwOTU5Njg4XkEyXkFqcGdeQXVyNjU0OTQ0OTY@._V1_QL75_UX190_CR0,2,190,281_.jpg', 'langue': ['English', 'Hebrew', 'German', 'Polish', 'Latin']}\n",
      "{'_id': ObjectId('639b42010913ab014f14c731'), 'titre': 'The Lord of the Rings: The Return of the King', 'titre_original': '', 'score': 9.0, 'genre': ['Action', 'Adventure', 'Drama'], 'date': 2003, 'duree': 201, 'descriptions': \"Gandalf and Aragorn lead the World of Men against Sauron's army to draw his gaze from Frodo and Sam as they approach Mount Doom with the One Ring.\", 'acteurs': ['Elijah Wood', 'Viggo Mortensen', 'Ian McKellen'], 'public': 'PG-13', 'pays': ['New Zealand', 'United States'], 'url': 'https://m.media-amazon.com/images/M/MV5BNzA5ZDNlZWMtM2NhNS00NDJjLTk4NDItYTRmY2EwMWZlMTY3XkEyXkFqcGdeQXVyNzkwMjQ5NzM@._V1_QL75_UX190_CR0,0,190,281_.jpg', 'langue': ['English', 'Quenya', 'Old English', 'Sindarin']}\n"
     ]
    }
   ],
   "source": [
    "five_movies=movies.find().sort(\"score\",-1).limit(5)\n",
    "for movie in five_movies:\n",
    "    print(movie)"
   ]
  },
  {
   "attachments": {},
   "cell_type": "markdown",
   "metadata": {},
   "source": [
    "## Question n°3\n"
   ]
  },
  {
   "cell_type": "code",
   "execution_count": 11,
   "metadata": {},
   "outputs": [
    {
     "name": "stdout",
     "output_type": "stream",
     "text": [
      "{'_id': ObjectId('639b41de0913ab014f14c63c'), 'titre': 'The Shawshank Redemption', 'titre_original': '', 'score': 9.3, 'genre': ['Drama'], 'date': 1994, 'duree': 142, 'descriptions': 'Two imprisoned men bond over a number of years, finding solace and eventual redemption through acts of common decency.', 'acteurs': ['Tim Robbins', 'Morgan Freeman', 'Bob Gunton'], 'public': 'R', 'pays': ['United States'], 'url': 'https://m.media-amazon.com/images/M/MV5BMDFkYTc0MGEtZmNhMC00ZDIzLWFmNTEtODM1ZmRlYWMwMWFmXkEyXkFqcGdeQXVyMTMxODk2OTU@._V1_QL75_UX190_CR0,0,190,281_.jpg', 'langue': ['English']}\n",
      "{'_id': ObjectId('639b41eb0913ab014f14c698'), 'titre': 'Million Dollar Baby', 'titre_original': '', 'score': 8.1, 'genre': ['Drama', 'Sport'], 'date': 2004, 'duree': 132, 'descriptions': 'A determined woman works with a hardened boxing trainer to become a professional.', 'acteurs': ['Hilary Swank', 'Clint Eastwood', 'Morgan Freeman'], 'public': 'PG-13', 'pays': ['United States'], 'url': 'https://m.media-amazon.com/images/M/MV5BMTkxNzA1NDQxOV5BMl5BanBnXkFtZTcwNTkyMTIzMw@@._V1_QL75_UY281_CR1,0,190,281_.jpg', 'langue': ['English', 'Irish Gaelic']}\n",
      "{'_id': ObjectId('639b41f00913ab014f14c6bb'), 'titre': 'Unforgiven', 'titre_original': '', 'score': 8.2, 'genre': ['Drama', 'Western'], 'date': 1992, 'duree': 130, 'descriptions': 'Retired Old West gunslinger William Munny reluctantly takes on one last job, with the help of his old partner Ned Logan and a young man, The \"Schofield Kid.\"', 'acteurs': ['Clint Eastwood', 'Gene Hackman', 'Morgan Freeman'], 'public': 'R', 'pays': ['United States'], 'url': 'https://m.media-amazon.com/images/M/MV5BODM3YWY4NmQtN2Y3Ni00OTg0LWFhZGQtZWE3ZWY4MTJlOWU4XkEyXkFqcGdeQXVyNjU0OTQ0OTY@._V1_QL75_UX190_CR0,2,190,281_.jpg', 'langue': ['English']}\n",
      "{'_id': ObjectId('639b41ff0913ab014f14c723'), 'titre': 'Se7en', 'titre_original': '', 'score': 8.6, 'genre': ['Crime', 'Drama', 'Mystery'], 'date': 1995, 'duree': 127, 'descriptions': 'Two detectives, a rookie and a veteran, hunt a serial killer who uses the seven deadly sins as his motives.', 'acteurs': ['Morgan Freeman', 'Brad Pitt', 'Kevin Spacey'], 'public': 'R', 'pays': ['United States'], 'url': 'https://m.media-amazon.com/images/M/MV5BOTUwODM5MTctZjczMi00OTk4LTg3NWUtNmVhMTAzNTNjYjcyXkEyXkFqcGdeQXVyNjU0OTQ0OTY@._V1_QL75_UX190_CR0,8,190,281_.jpg', 'langue': ['English']}\n"
     ]
    }
   ],
   "source": [
    "Freeman_movies = movies.find({\"acteurs\":{\"$in\":[\"Morgan Freeman\"]}})\n",
    "for movie in Freeman_movies:\n",
    "    print(movie)"
   ]
  },
  {
   "cell_type": "code",
   "execution_count": 12,
   "metadata": {},
   "outputs": [
    {
     "name": "stdout",
     "output_type": "stream",
     "text": [
      "{'_id': ObjectId('639b41f80913ab014f14c6f3'), 'titre': 'Top Gun: Maverick', 'titre_original': '', 'score': 8.4, 'genre': ['Action', 'Drama'], 'date': 2022, 'duree': 130, 'descriptions': \"After thirty years, Maverick is still pushing the envelope as a top naval aviator, but must confront ghosts of his past when he leads TOP GUN's elite graduates on a mission that demands the ultimate sacrifice from those chosen to fly it.\", 'acteurs': ['Tom Cruise', 'Jennifer Connelly', 'Miles Teller'], 'public': 'PG-13', 'pays': ['United States'], 'url': 'https://m.media-amazon.com/images/M/MV5BZWYzOGEwNTgtNWU3NS00ZTQ0LWJkODUtMmVhMjIwMjA1ZmQwXkEyXkFqcGdeQXVyMjkwOTAyMDU@._V1_QL75_UX190_CR0,0,190,281_.jpg', 'langue': ['English']}\n"
     ]
    }
   ],
   "source": [
    "Cruise_movies = movies.find({\"acteurs\":{\"$in\":[\"Tom Cruise\"]}})\n",
    "for movie in Cruise_movies:\n",
    "    print(movie)"
   ]
  },
  {
   "attachments": {},
   "cell_type": "markdown",
   "metadata": {},
   "source": [
    "## Question n°4"
   ]
  },
  {
   "cell_type": "code",
   "execution_count": 13,
   "metadata": {},
   "outputs": [
    {
     "name": "stdout",
     "output_type": "stream",
     "text": [
      "{'_id': ObjectId('639b41fd0913ab014f14c713'), 'titre': 'Alien', 'titre_original': '', 'score': 8.5, 'genre': ['Horror', 'Sci-Fi'], 'date': 1979, 'duree': 117, 'descriptions': 'The crew of a commercial spacecraft encounter a deadly lifeform after investigating an unknown transmission.', 'acteurs': ['Sigourney Weaver', 'Tom Skerritt', 'John Hurt'], 'public': 'R', 'pays': ['United Kingdom', 'United States'], 'url': 'https://m.media-amazon.com/images/M/MV5BOGQzZTBjMjQtOTVmMS00NGE5LWEyYmMtOGQ1ZGZjNmRkYjFhXkEyXkFqcGdeQXVyMjUzOTY1NTc@._V1_QL75_UX190_CR0,3,190,281_.jpg', 'langue': ['English']}\n",
      "{'_id': ObjectId('639b41e00913ab014f14c646'), 'titre': 'Psycho', 'titre_original': '', 'score': 8.5, 'genre': ['Horror', 'Mystery', 'Thriller'], 'date': 1960, 'duree': 109, 'descriptions': \"A Phoenix secretary embezzles $40,000 from her employer's client, goes on the run and checks into a remote motel run by a young man under the domination of his mother.\", 'acteurs': ['Anthony Perkins', 'Janet Leigh', 'Vera Miles'], 'public': 'R', 'pays': ['United States'], 'url': 'https://m.media-amazon.com/images/M/MV5BNTQwNDM1YzItNDAxZC00NWY2LTk0M2UtNDIwNWI5OGUyNWUxXkEyXkFqcGdeQXVyNzkwMjQ5NzM@._V1_QL75_UX190_CR0,0,190,281_.jpg', 'langue': ['English']}\n",
      "{'_id': ObjectId('639b41fb0913ab014f14c70a'), 'titre': 'The Shining', 'titre_original': '', 'score': 8.4, 'genre': ['Drama', 'Horror'], 'date': 1980, 'duree': 146, 'descriptions': 'A family heads to an isolated hotel for the winter where a sinister presence influences the father into violence, while his psychic son sees horrific forebodings from both past and future.', 'acteurs': ['Jack Nicholson', 'Shelley Duvall', 'Danny Lloyd'], 'public': 'R', 'pays': ['United Kingdom', 'United States'], 'url': 'https://m.media-amazon.com/images/M/MV5BZWFlYmY2MGEtZjVkYS00YzU4LTg0YjQtYzY1ZGE3NTA5NGQxXkEyXkFqcGdeQXVyMTQxNzMzNDI@._V1_QL75_UX190_CR0,4,190,281_.jpg', 'langue': ['English']}\n"
     ]
    }
   ],
   "source": [
    "horror_movies = movies.find({\"genre\":{\"$in\":[\"Horror\"]}}).sort(\"score\",-1).limit(3)\n",
    "for movie in horror_movies:\n",
    "    print(movie)"
   ]
  },
  {
   "cell_type": "code",
   "execution_count": 14,
   "metadata": {},
   "outputs": [
    {
     "name": "stdout",
     "output_type": "stream",
     "text": [
      "{'_id': ObjectId('639b41de0913ab014f14c63c'), 'titre': 'The Shawshank Redemption', 'titre_original': '', 'score': 9.3, 'genre': ['Drama'], 'date': 1994, 'duree': 142, 'descriptions': 'Two imprisoned men bond over a number of years, finding solace and eventual redemption through acts of common decency.', 'acteurs': ['Tim Robbins', 'Morgan Freeman', 'Bob Gunton'], 'public': 'R', 'pays': ['United States'], 'url': 'https://m.media-amazon.com/images/M/MV5BMDFkYTc0MGEtZmNhMC00ZDIzLWFmNTEtODM1ZmRlYWMwMWFmXkEyXkFqcGdeQXVyMTMxODk2OTU@._V1_QL75_UX190_CR0,0,190,281_.jpg', 'langue': ['English']}\n",
      "{'_id': ObjectId('639b42010913ab014f14c735'), 'titre': 'The Godfather', 'titre_original': '', 'score': 9.2, 'genre': ['Crime', 'Drama'], 'date': 1972, 'duree': 175, 'descriptions': 'The aging patriarch of an organized crime dynasty in postwar New York City transfers control of his clandestine empire to his reluctant youngest son.', 'acteurs': ['Marlon Brando', 'Al Pacino', 'James Caan'], 'public': 'R', 'pays': ['United States'], 'url': 'https://m.media-amazon.com/images/M/MV5BM2MyNjYxNmUtYTAwNi00MTYxLWJmNWYtYzZlODY3ZTk3OTFlXkEyXkFqcGdeQXVyNzkwMjQ5NzM@._V1_QL75_UY281_CR4,0,190,281_.jpg', 'langue': ['English', 'Italian', 'Latin']}\n",
      "{'_id': ObjectId('639b42010913ab014f14c731'), 'titre': 'The Lord of the Rings: The Return of the King', 'titre_original': '', 'score': 9.0, 'genre': ['Action', 'Adventure', 'Drama'], 'date': 2003, 'duree': 201, 'descriptions': \"Gandalf and Aragorn lead the World of Men against Sauron's army to draw his gaze from Frodo and Sam as they approach Mount Doom with the One Ring.\", 'acteurs': ['Elijah Wood', 'Viggo Mortensen', 'Ian McKellen'], 'public': 'PG-13', 'pays': ['New Zealand', 'United States'], 'url': 'https://m.media-amazon.com/images/M/MV5BNzA5ZDNlZWMtM2NhNS00NDJjLTk4NDItYTRmY2EwMWZlMTY3XkEyXkFqcGdeQXVyNzkwMjQ5NzM@._V1_QL75_UX190_CR0,0,190,281_.jpg', 'langue': ['English', 'Quenya', 'Old English', 'Sindarin']}\n"
     ]
    }
   ],
   "source": [
    "drama_movies = movies.find({\"genre\":{\"$in\":[\"Drama\"]}}).sort(\"score\",-1).limit(3)\n",
    "for movie in drama_movies:\n",
    "    print(movie)"
   ]
  },
  {
   "cell_type": "code",
   "execution_count": 15,
   "metadata": {},
   "outputs": [
    {
     "name": "stdout",
     "output_type": "stream",
     "text": [
      "{'_id': ObjectId('639b41fe0913ab014f14c71e'), 'titre': 'Life Is Beautiful', 'titre_original': 'La vita è bella', 'score': 8.6, 'genre': ['Comedy', 'Drama', 'Romance'], 'date': 1997, 'duree': 116, 'descriptions': 'When an open-minded Jewish waiter and his son become victims of the Holocaust, he uses a perfect mixture of will, humor, and imagination to protect his son from the dangers around their camp.', 'acteurs': ['Roberto Benigni', 'Nicoletta Braschi', 'Giorgio Cantarini'], 'public': 'PG-13', 'pays': ['Italy'], 'url': 'https://m.media-amazon.com/images/M/MV5BYmJmM2Q4NmMtYThmNC00ZjRlLWEyZmItZTIwOTBlZDQ3NTQ1XkEyXkFqcGdeQXVyMTQxNzMzNDI@._V1_QL75_UX190_CR0,1,190,281_.jpg', 'langue': ['Italian', 'German', 'English']}\n",
      "{'_id': ObjectId('639b41fd0913ab014f14c716'), 'titre': 'Modern Times', 'titre_original': '', 'score': 8.5, 'genre': ['Comedy', 'Drama', 'Romance'], 'date': 1936, 'duree': 87, 'descriptions': 'The Tramp struggles to live in modern industrial society with the help of a young homeless woman.', 'acteurs': ['Charles Chaplin', 'Paulette Goddard', 'Henry Bergman'], 'public': 'G', 'pays': ['United States'], 'url': 'https://m.media-amazon.com/images/M/MV5BYjJiZjMzYzktNjU0NS00OTkxLWEwYzItYzdhYWJjN2QzMTRlL2ltYWdlL2ltYWdlXkEyXkFqcGdeQXVyNjU0OTQ0OTY@._V1_QL75_UX190_CR0,7,190,281_.jpg', 'langue': ['English']}\n",
      "{'_id': ObjectId('639b41fd0913ab014f14c712'), 'titre': 'City Lights', 'titre_original': '', 'score': 8.5, 'genre': ['Comedy', 'Drama', 'Romance'], 'date': 1931, 'duree': 87, 'descriptions': '', 'acteurs': ['Charles Chaplin', 'Virginia Cherrill', 'Florence Lee'], 'public': 'G', 'pays': ['United States'], 'url': '', 'langue': ['None', 'English']}\n"
     ]
    }
   ],
   "source": [
    "comedy_movies = movies.find({\"genre\":{\"$in\":[\"Comedy\"]}}).sort(\"score\",-1).limit(3)\n",
    "for movie in comedy_movies:\n",
    "    print(movie)"
   ]
  },
  {
   "attachments": {},
   "cell_type": "markdown",
   "metadata": {},
   "source": [
    "## Question 6"
   ]
  },
  {
   "cell_type": "code",
   "execution_count": 16,
   "metadata": {},
   "outputs": [
    {
     "name": "stdout",
     "output_type": "stream",
     "text": [
      "73.0\n"
     ]
    }
   ],
   "source": [
    "american_movies = movies.find().sort(\"score\",-1).limit(100)\n",
    "count=0\n",
    "for movie in american_movies:\n",
    "    if \"United States\" in movie[\"pays\"]:\n",
    "        count +=1\n",
    "pourcentage = count/100\n",
    "print(pourcentage*100)"
   ]
  },
  {
   "cell_type": "code",
   "execution_count": 17,
   "metadata": {},
   "outputs": [
    {
     "name": "stdout",
     "output_type": "stream",
     "text": [
      "City of God 8.6\n",
      "Léon: The Professional 8.5\n",
      "The Pianist 8.5\n",
      "Cinema Paradiso 8.5\n",
      "The Intouchables 8.5\n",
      "Capernaum 8.4\n",
      "The Boat 8.4\n",
      "Amadeus 8.4\n",
      "The Lives of Others 8.4\n",
      "Incendies 8.3\n",
      "A Separation 8.3\n",
      "Amélie 8.3\n",
      "The Passion of Joan of Arc 8.2\n",
      "The Wages of Fear 8.2\n",
      "Casino 8.2\n",
      "Ran 8.2\n",
      "The Father 8.2\n",
      "The 400 Blows 8.1\n",
      "La haine 8.1\n",
      "Before Sunset 8.1\n",
      "Wild Tales 8.1\n"
     ]
    }
   ],
   "source": [
    "french_movies = movies.find({\"pays\":{\"$in\":[\"France\"]}}).sort(\"score\",-1).limit(100)\n",
    "for movie in french_movies:\n",
    "    print(movie[\"titre\"],movie[\"score\"])"
   ]
  },
  {
   "cell_type": "code",
   "execution_count": 18,
   "metadata": {},
   "outputs": [
    {
     "data": {
      "text/plain": [
       "'Dans le Top 100 des films : US (71%) FR (12%)'"
      ]
     },
     "execution_count": 18,
     "metadata": {},
     "output_type": "execute_result"
    }
   ],
   "source": [
    "top_100 = movies.find().sort(\"score\", -1)[:100]\n",
    "france = 0\n",
    "us = 0\n",
    "for i in top_100:\n",
    "    if \"France\" in i['pays']  :\n",
    "        france += 1\n",
    "    elif \"United States\" in i['pays'] :\n",
    "        us += 1\n",
    "f\"Dans le Top 100 des films : US ({us}%) FR ({france}%)\""
   ]
  },
  {
   "attachments": {},
   "cell_type": "markdown",
   "metadata": {},
   "source": [
    "## Question n°7\n"
   ]
  },
  {
   "cell_type": "code",
   "execution_count": 19,
   "metadata": {},
   "outputs": [
    {
     "name": "stdout",
     "output_type": "stream",
     "text": [
      "['Drama', 'Action', 'Crime', 'Mystery', 'Adventure', 'Thriller', 'Sci-Fi', 'Animation', 'Comedy', 'Horror', 'Family', 'Fantasy', 'Biography', 'History', 'Music', 'Romance', 'Film-Noir', 'War', 'Sport', 'Western', 'Musical'] 21\n"
     ]
    }
   ],
   "source": [
    "liste_genre =[]\n",
    "list_movies = movies.find()\n",
    "for movie in list_movies:\n",
    "    genre_movie = movie[\"genre\"]\n",
    "    for genre in genre_movie:\n",
    "        if not genre in liste_genre:\n",
    "            liste_genre.append(genre)\n",
    "print(liste_genre, len(liste_genre))"
   ]
  },
  {
   "cell_type": "code",
   "execution_count": 20,
   "metadata": {},
   "outputs": [
    {
     "name": "stdout",
     "output_type": "stream",
     "text": [
      "{'Drama': 134.63636363636363, 'Action': 133.92156862745097, 'Crime': 131.7843137254902, 'Mystery': 124.61290322580645, 'Adventure': 129.41666666666666, 'Thriller': 121.03333333333333, 'Sci-Fi': 131.7, 'Animation': 100.95652173913044, 'Comedy': 106.32608695652173, 'Horror': 120.6, 'Family': 114.53846153846153, 'Fantasy': 123.57142857142857, 'Biography': 147.06896551724137, 'History': 156.0, 'Music': 134.25, 'Romance': 118.47826086956522, 'Film-Noir': 110.0, 'War': 140.43478260869566, 'Sport': 122.0, 'Western': 149.33333333333334, 'Musical': 103.0}\n"
     ]
    },
    {
     "name": "stderr",
     "output_type": "stream",
     "text": [
      "/tmp/ipykernel_45063/3980943192.py:5: DeprecationWarning: count is deprecated. Use Collection.count_documents instead.\n",
      "  nb_movies=list_movies.count()\n"
     ]
    }
   ],
   "source": [
    "dict_temps_genre={}\n",
    "for genre in liste_genre:\n",
    "    temps_total = 0\n",
    "    list_movies = movies.find({\"genre\":{\"$in\":[genre]}})\n",
    "    nb_movies=list_movies.count()\n",
    "    \n",
    "    for movie in list_movies:\n",
    "        temps_total = movie[\"duree\"] + temps_total\n",
    "\n",
    "    dict_temps_genre[genre] =  temps_total/nb_movies\n",
    "print(dict_temps_genre)\n"
   ]
  },
  {
   "cell_type": "code",
   "execution_count": 21,
   "metadata": {},
   "outputs": [
    {
     "name": "stdout",
     "output_type": "stream",
     "text": [
      "{'_id': 'Musical', 'duree': 103.0}\n",
      "{'_id': 'Family', 'duree': 114.53846153846153}\n",
      "{'_id': 'Animation', 'duree': 100.95652173913044}\n",
      "{'_id': 'Western', 'duree': 149.33333333333334}\n",
      "{'_id': 'Adventure', 'duree': 129.41666666666666}\n",
      "{'_id': 'History', 'duree': 156.0}\n",
      "{'_id': 'Biography', 'duree': 147.06896551724137}\n",
      "{'_id': 'Sport', 'duree': 122.0}\n",
      "{'_id': 'Mystery', 'duree': 124.61290322580645}\n",
      "{'_id': 'Comedy', 'duree': 106.32608695652173}\n",
      "{'_id': 'Drama', 'duree': 134.63636363636363}\n",
      "{'_id': 'Film-Noir', 'duree': 110.0}\n",
      "{'_id': 'Crime', 'duree': 131.7843137254902}\n",
      "{'_id': 'Music', 'duree': 134.25}\n",
      "{'_id': 'Action', 'duree': 133.92156862745097}\n",
      "{'_id': 'Horror', 'duree': 120.6}\n",
      "{'_id': 'Romance', 'duree': 118.47826086956522}\n",
      "{'_id': 'Sci-Fi', 'duree': 131.7}\n",
      "{'_id': 'War', 'duree': 140.43478260869566}\n",
      "{'_id': 'Thriller', 'duree': 121.03333333333333}\n",
      "{'_id': 'Fantasy', 'duree': 123.57142857142857}\n"
     ]
    }
   ],
   "source": [
    "avg_genre= (movies.aggregate([\n",
    "    {\"$unwind\":\"$genre\"},\n",
    "        {\"$group\": {\n",
    "            \"_id\": \"$genre\",\"duree\": { \"$avg\": \"$duree\" }\n",
    "        }\n",
    "    }\n",
    "]))\n",
    "for i in avg_genre:\n",
    "    print(i)"
   ]
  },
  {
   "cell_type": "code",
   "execution_count": 22,
   "metadata": {},
   "outputs": [
    {
     "name": "stdout",
     "output_type": "stream",
     "text": [
      "Le temps moyen du genre Drama est 134.64 minutes \n",
      "Le temps moyen du genre Action est 133.92 minutes \n",
      "Le temps moyen du genre Crime est 131.78 minutes \n",
      "Le temps moyen du genre Mystery est 124.61 minutes \n",
      "Le temps moyen du genre Adventure est 129.42 minutes \n",
      "Le temps moyen du genre Thriller est 121.03 minutes \n",
      "Le temps moyen du genre Sci-Fi est 131.7 minutes \n",
      "Le temps moyen du genre Animation est 100.96 minutes \n",
      "Le temps moyen du genre Comedy est 106.33 minutes \n",
      "Le temps moyen du genre Horror est 120.6 minutes \n",
      "Le temps moyen du genre Family est 114.54 minutes \n",
      "Le temps moyen du genre Fantasy est 123.57 minutes \n",
      "Le temps moyen du genre Biography est 147.07 minutes \n",
      "Le temps moyen du genre History est 156.0 minutes \n",
      "Le temps moyen du genre Music est 134.25 minutes \n",
      "Le temps moyen du genre Romance est 118.48 minutes \n",
      "Le temps moyen du genre Film-Noir est 110.0 minutes \n",
      "Le temps moyen du genre War est 140.43 minutes \n",
      "Le temps moyen du genre Sport est 122.0 minutes \n",
      "Le temps moyen du genre Western est 149.33 minutes \n",
      "Le temps moyen du genre Musical est 103.0 minutes \n"
     ]
    }
   ],
   "source": [
    "for key,value in dict_temps_genre.items():\n",
    "    print(f\"Le temps moyen du genre {key} est {round(value,2)} minutes \")"
   ]
  }
 ],
 "metadata": {
  "kernelspec": {
   "display_name": "scrapping",
   "language": "python",
   "name": "python3"
  },
  "language_info": {
   "codemirror_mode": {
    "name": "ipython",
    "version": 3
   },
   "file_extension": ".py",
   "mimetype": "text/x-python",
   "name": "python",
   "nbconvert_exporter": "python",
   "pygments_lexer": "ipython3",
   "version": "3.9.15 (main, Nov 24 2022, 14:31:59) \n[GCC 11.2.0]"
  },
  "orig_nbformat": 4,
  "vscode": {
   "interpreter": {
    "hash": "fd3b62b4e3a46936b70179a21ff0662b5c0041470bf23202501292961aa31bd6"
   }
  }
 },
 "nbformat": 4,
 "nbformat_minor": 2
}
